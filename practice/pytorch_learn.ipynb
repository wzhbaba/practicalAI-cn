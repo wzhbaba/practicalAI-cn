{
 "cells": [
  {
   "cell_type": "code",
   "execution_count": 6,
   "metadata": {},
   "outputs": [],
   "source": [
    "import numpy as np\n",
    "import torch"
   ]
  },
  {
   "cell_type": "code",
   "execution_count": 17,
   "metadata": {},
   "outputs": [
    {
     "name": "stdout",
     "output_type": "stream",
     "text": [
      "Type:torch.FloatTensor\n",
      "Size:torch.Size([3, 4])\n",
      "Values:\n",
      "tensor([[-3.0689e+31,  4.2249e-41, -3.0689e+31,  4.2249e-41],\n",
      "        [ 4.4842e-44,  0.0000e+00,  1.5695e-43,  0.0000e+00],\n",
      "        [ 5.1084e+02,  0.0000e+00,  0.0000e+00,  1.4013e-45]])\n"
     ]
    }
   ],
   "source": [
    "x = torch.Tensor(3,4)\n",
    "print(\"Type:{}\".format(x.type()))\n",
    "print(\"Size:{}\".format(x.size()))\n",
    "print(\"Values:\\n{}\".format(x))"
   ]
  },
  {
   "cell_type": "code",
   "execution_count": 13,
   "metadata": {},
   "outputs": [
    {
     "name": "stdout",
     "output_type": "stream",
     "text": [
      "tensor([[ 0.1658,  0.3579,  1.0927],\n",
      "        [-0.0427,  0.6768, -0.1069]])\n"
     ]
    }
   ],
   "source": [
    "x = torch.randn(2, 3)\n",
    "print(x)"
   ]
  },
  {
   "cell_type": "code",
   "execution_count": 15,
   "metadata": {},
   "outputs": [
    {
     "name": "stdout",
     "output_type": "stream",
     "text": [
      "tensor([[0., 0., 0.],\n",
      "        [0., 0., 0.]])\n",
      "tensor([[1., 1., 1.],\n",
      "        [1., 1., 1.]])\n"
     ]
    }
   ],
   "source": [
    "x = torch.zeros(2,3)\n",
    "print(x)\n",
    "x = torch.ones(2,3)\n",
    "print(x)"
   ]
  },
  {
   "cell_type": "code",
   "execution_count": 16,
   "metadata": {},
   "outputs": [
    {
     "name": "stdout",
     "output_type": "stream",
     "text": [
      "Size:torch.Size([2, 3])\n",
      "Values:\n",
      "tensor([[1., 2., 3.],\n",
      "        [4., 5., 6.]])\n"
     ]
    }
   ],
   "source": [
    "x = torch.Tensor([[1,2,3],[4,5,6]])\n",
    "print(\"Size:{}\".format(x.shape))\n",
    "print(\"Values:\\n{}\".format(x))"
   ]
  },
  {
   "cell_type": "code",
   "execution_count": 18,
   "metadata": {},
   "outputs": [
    {
     "name": "stdout",
     "output_type": "stream",
     "text": [
      "Type: torch.FloatTensor\n",
      "Type: torch.LongTensor\n"
     ]
    }
   ],
   "source": [
    "x = torch.Tensor(3, 4)\n",
    "print(\"Type: {}\".format(x.type()))\n",
    "x = x.long()\n",
    "print(\"Type: {}\".format(x.type()))"
   ]
  },
  {
   "cell_type": "code",
   "execution_count": 19,
   "metadata": {},
   "outputs": [
    {
     "name": "stdout",
     "output_type": "stream",
     "text": [
      "Size: torch.Size([2, 3])\n",
      "Values: \n",
      "tensor([[ 1.1544, -1.1712,  0.9799],\n",
      "        [-1.0261, -1.3222, -0.1075]])\n"
     ]
    }
   ],
   "source": [
    "x = torch.randn(2, 3)\n",
    "y = torch.randn(2, 3)\n",
    "z = x + y\n",
    "print(\"Size: {}\".format(z.shape))\n",
    "print(\"Values: \\n{}\".format(z))"
   ]
  },
  {
   "cell_type": "code",
   "execution_count": 23,
   "metadata": {},
   "outputs": [
    {
     "name": "stdout",
     "output_type": "stream",
     "text": [
      "Size: torch.Size([2, 2])\n",
      "Values: \n",
      "tensor([[1.1340, 5.0419],\n",
      "        [0.0872, 0.6682]])\n"
     ]
    }
   ],
   "source": [
    "x = torch.randn(2, 3)\n",
    "y = torch.randn(3, 2)\n",
    "z = torch.mm(x, y)\n",
    "print(\"Size: {}\".format(z.shape))\n",
    "print(\"Values: \\n{}\".format(z))"
   ]
  },
  {
   "cell_type": "code",
   "execution_count": 24,
   "metadata": {},
   "outputs": [
    {
     "name": "stdout",
     "output_type": "stream",
     "text": [
      "Size: torch.Size([2, 3])\n",
      "Values: \n",
      "tensor([[-0.1723,  1.0582, -1.1429],\n",
      "        [ 0.0645,  0.4144, -0.1016]])\n",
      "Size: torch.Size([3, 2])\n",
      "Values: \n",
      "tensor([[-0.1723,  0.0645],\n",
      "        [ 1.0582,  0.4144],\n",
      "        [-1.1429, -0.1016]])\n"
     ]
    }
   ],
   "source": [
    "x = torch.randn(2, 3)\n",
    "print(\"Size: {}\".format(x.shape))\n",
    "print(\"Values: \\n{}\".format(x))\n",
    "y = torch.t(x)\n",
    "print(\"Size: {}\".format(y.shape))\n",
    "print(\"Values: \\n{}\".format(y))"
   ]
  },
  {
   "cell_type": "code",
   "execution_count": 25,
   "metadata": {},
   "outputs": [
    {
     "name": "stdout",
     "output_type": "stream",
     "text": [
      "Size: torch.Size([3, 2])\n",
      "Values: \n",
      "tensor([[-0.1723,  1.0582],\n",
      "        [-1.1429,  0.0645],\n",
      "        [ 0.4144, -0.1016]])\n"
     ]
    }
   ],
   "source": [
    "z = x.view(3, 2)\n",
    "print(\"Size: {}\".format(z.shape))\n",
    "print(\"Values: \\n{}\".format(z))"
   ]
  },
  {
   "cell_type": "code",
   "execution_count": 28,
   "metadata": {},
   "outputs": [
    {
     "name": "stdout",
     "output_type": "stream",
     "text": [
      "Value: \n",
      "tensor([[-0.3195, -2.0381,  0.2851],\n",
      "        [ 0.0365, -0.3264,  1.3785]])\n",
      "Value: \n",
      "tensor([-0.2830, -2.3645,  1.6636])\n",
      "Value: \n",
      "tensor([-2.0725,  1.0885])\n"
     ]
    }
   ],
   "source": [
    "x = torch.randn(2, 3)\n",
    "print(\"Value: \\n{}\".format(x))\n",
    "y = torch.sum(x, dim=0)\n",
    "print(\"Value: \\n{}\".format(y))\n",
    "z = torch.sum(x, dim=1)\n",
    "print(\"Value: \\n{}\".format(z))"
   ]
  },
  {
   "cell_type": "code",
   "execution_count": 35,
   "metadata": {},
   "outputs": [
    {
     "name": "stdout",
     "output_type": "stream",
     "text": [
      "x: \n",
      "tensor([[ 0.0796, -0.6100, -0.7012,  0.5655],\n",
      "        [-1.1403, -1.3795, -0.8577,  0.3892],\n",
      "        [ 1.5583, -1.0368,  0.2767, -0.6464]])\n",
      "x[:1]: \n",
      "tensor([[ 0.0796, -0.6100, -0.7012,  0.5655]])\n",
      "x[:1, 1:3]: \n",
      "tensor([[-0.6100, -0.7012]])\n"
     ]
    }
   ],
   "source": [
    "x = torch.randn(3, 4)\n",
    "print(\"x: \\n{}\".format(x))\n",
    "print(\"x[:1]: \\n{}\".format(x[:1]))\n",
    "print(\"x[:1, 1:3]: \\n{}\".format(x[:1, 1:3]))"
   ]
  },
  {
   "cell_type": "code",
   "execution_count": 57,
   "metadata": {},
   "outputs": [
    {
     "name": "stdout",
     "output_type": "stream",
     "text": [
      "Value: \n",
      "tensor([[-0.4437,  2.2178, -0.5356],\n",
      "        [-1.1574, -1.4588,  0.0530]], device='cuda:0')\n",
      "Value: \n",
      "tensor([[-0.4437, -0.5356],\n",
      "        [-1.1574,  0.0530]], device='cuda:0')\n",
      "Value: \n",
      "tensor([-0.4437,  0.0530], device='cuda:0')\n"
     ]
    }
   ],
   "source": [
    "x = torch.randn(2, 3).to(\"cuda\")\n",
    "print(\"Value: \\n{}\".format(x))\n",
    "col_indices = torch.LongTensor([0, 2]).to(\"cuda\")\n",
    "chosen = torch.index_select(x, dim=1, index=col_indices)\n",
    "print(\"Value: \\n{}\".format(chosen))\n",
    "row_indices = torch.LongTensor([0, 1]).to(\"cuda\")\n",
    "chosen = x[row_indices, col_indices]\n",
    "print(\"Value: \\n{}\".format(chosen))"
   ]
  },
  {
   "cell_type": "code",
   "execution_count": 51,
   "metadata": {},
   "outputs": [
    {
     "name": "stdout",
     "output_type": "stream",
     "text": [
      "Value: \n",
      "tensor([[ 0.3338, -0.2902,  0.0858],\n",
      "        [ 1.3495,  0.3656, -0.3703]])\n",
      "Value: \n",
      "tensor([[ 0.3338, -0.2902,  0.0858],\n",
      "        [ 1.3495,  0.3656, -0.3703],\n",
      "        [ 0.3338, -0.2902,  0.0858],\n",
      "        [ 1.3495,  0.3656, -0.3703]])\n",
      "Value: \n",
      "tensor([[ 0.3338, -0.2902,  0.0858,  0.3338, -0.2902,  0.0858],\n",
      "        [ 1.3495,  0.3656, -0.3703,  1.3495,  0.3656, -0.3703]])\n"
     ]
    }
   ],
   "source": [
    "x = torch.randn(2, 3)\n",
    "print(\"Value: \\n{}\".format(x))\n",
    "y = torch.cat([x, x], dim=0)\n",
    "print(\"Value: \\n{}\".format(y))\n",
    "z = torch.cat([x, x], dim=1)\n",
    "print(\"Value: \\n{}\".format(z))"
   ]
  },
  {
   "cell_type": "code",
   "execution_count": 58,
   "metadata": {},
   "outputs": [
    {
     "name": "stdout",
     "output_type": "stream",
     "text": [
      "Value: \n",
      "tensor([[0.3828, 0.6155, 0.5390, 0.4034],\n",
      "        [0.4542, 0.0338, 0.1571, 0.9694],\n",
      "        [0.7739, 0.0672, 0.7047, 0.1595]], requires_grad=True)\n",
      "x.grad: \n",
      " tensor([[0.2500, 0.2500, 0.2500, 0.2500],\n",
      "        [0.2500, 0.2500, 0.2500, 0.2500],\n",
      "        [0.2500, 0.2500, 0.2500, 0.2500]])\n"
     ]
    }
   ],
   "source": [
    "x = torch.rand(3, 4, requires_grad=True)\n",
    "y = 3*x + 2\n",
    "z = y.mean()\n",
    "z.backward()\n",
    "print(\"Value: \\n{}\".format(x))\n",
    "print(\"x.grad: \\n\", x.grad)"
   ]
  },
  {
   "cell_type": "code",
   "execution_count": 60,
   "metadata": {},
   "outputs": [
    {
     "name": "stdout",
     "output_type": "stream",
     "text": [
      "Value: \n",
      "tensor([[ 1.6228,  0.2177,  0.0854],\n",
      "        [ 0.1703, -0.0060,  0.6275]])\n",
      "Value: \n",
      "tensor([1.6396, 0.6502])\n"
     ]
    }
   ],
   "source": [
    "x = torch.randn(2, 3)\n",
    "print(\"Value: \\n{}\".format(x))\n",
    "y = torch.norm(x, dim=-1)\n",
    "print(\"Value: \\n{}\".format(y))"
   ]
  }
 ],
 "metadata": {
  "kernelspec": {
   "display_name": "base",
   "language": "python",
   "name": "python3"
  },
  "language_info": {
   "codemirror_mode": {
    "name": "ipython",
    "version": 3
   },
   "file_extension": ".py",
   "mimetype": "text/x-python",
   "name": "python",
   "nbconvert_exporter": "python",
   "pygments_lexer": "ipython3",
   "version": "3.12.7"
  }
 },
 "nbformat": 4,
 "nbformat_minor": 2
}
